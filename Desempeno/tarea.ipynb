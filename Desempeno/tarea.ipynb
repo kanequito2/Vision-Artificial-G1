{
 "cells": [
  {
   "cell_type": "code",
   "execution_count": null,
   "metadata": {},
   "outputs": [],
   "source": []
  },
  {
   "cell_type": "code",
   "execution_count": 86,
   "metadata": {},
   "outputs": [],
   "source": [
    "#importar librerias\n",
    "import pandas as pd\n",
    "from sklearn.metrics import auc\n",
    "from matplotlib import pyplot as plt\n",
    "from matplotlib import patches\n",
    "from sklearn.model_selection import train_test_split    \n",
    "from sklearn.metrics import precision_score, mean_squared_error, confusion_matrix, mean_absolute_error\n",
    "from sklearn.preprocessing import MinMaxScaler\n",
    "from sklearn import linear_model\n",
    "from sklearn.metrics import accuracy_score\n",
    "from sklearn.metrics import confusion_matrix\n",
    "from sklearn.metrics import roc_curve\n",
    "from sklearn.metrics import mean_absolute_error, mean_squared_error, classification_report\n",
    "import warnings\n",
    "warnings.filterwarnings('ignore')"
   ]
  },
  {
   "cell_type": "code",
   "execution_count": 19,
   "metadata": {},
   "outputs": [
    {
     "data": {
      "text/html": [
       "<div>\n",
       "<style scoped>\n",
       "    .dataframe tbody tr th:only-of-type {\n",
       "        vertical-align: middle;\n",
       "    }\n",
       "\n",
       "    .dataframe tbody tr th {\n",
       "        vertical-align: top;\n",
       "    }\n",
       "\n",
       "    .dataframe thead th {\n",
       "        text-align: right;\n",
       "    }\n",
       "</style>\n",
       "<table border=\"1\" class=\"dataframe\">\n",
       "  <thead>\n",
       "    <tr style=\"text-align: right;\">\n",
       "      <th></th>\n",
       "      <th>preg</th>\n",
       "      <th>plas</th>\n",
       "      <th>pres</th>\n",
       "      <th>skin</th>\n",
       "      <th>insu</th>\n",
       "      <th>mass</th>\n",
       "      <th>pedi</th>\n",
       "      <th>age</th>\n",
       "      <th>class</th>\n",
       "    </tr>\n",
       "  </thead>\n",
       "  <tbody>\n",
       "    <tr>\n",
       "      <th>763</th>\n",
       "      <td>10</td>\n",
       "      <td>101</td>\n",
       "      <td>76</td>\n",
       "      <td>48</td>\n",
       "      <td>180</td>\n",
       "      <td>32.9</td>\n",
       "      <td>0.171</td>\n",
       "      <td>63</td>\n",
       "      <td>tested_negative</td>\n",
       "    </tr>\n",
       "    <tr>\n",
       "      <th>764</th>\n",
       "      <td>2</td>\n",
       "      <td>122</td>\n",
       "      <td>70</td>\n",
       "      <td>27</td>\n",
       "      <td>0</td>\n",
       "      <td>36.8</td>\n",
       "      <td>0.340</td>\n",
       "      <td>27</td>\n",
       "      <td>tested_negative</td>\n",
       "    </tr>\n",
       "    <tr>\n",
       "      <th>765</th>\n",
       "      <td>5</td>\n",
       "      <td>121</td>\n",
       "      <td>72</td>\n",
       "      <td>23</td>\n",
       "      <td>112</td>\n",
       "      <td>26.2</td>\n",
       "      <td>0.245</td>\n",
       "      <td>30</td>\n",
       "      <td>tested_negative</td>\n",
       "    </tr>\n",
       "    <tr>\n",
       "      <th>766</th>\n",
       "      <td>1</td>\n",
       "      <td>126</td>\n",
       "      <td>60</td>\n",
       "      <td>0</td>\n",
       "      <td>0</td>\n",
       "      <td>30.1</td>\n",
       "      <td>0.349</td>\n",
       "      <td>47</td>\n",
       "      <td>tested_positive</td>\n",
       "    </tr>\n",
       "    <tr>\n",
       "      <th>767</th>\n",
       "      <td>1</td>\n",
       "      <td>93</td>\n",
       "      <td>70</td>\n",
       "      <td>31</td>\n",
       "      <td>0</td>\n",
       "      <td>30.4</td>\n",
       "      <td>0.315</td>\n",
       "      <td>23</td>\n",
       "      <td>tested_negative</td>\n",
       "    </tr>\n",
       "  </tbody>\n",
       "</table>\n",
       "</div>"
      ],
      "text/plain": [
       "     preg  plas  pres  skin  insu  mass   pedi  age            class\n",
       "763    10   101    76    48   180  32.9  0.171   63  tested_negative\n",
       "764     2   122    70    27     0  36.8  0.340   27  tested_negative\n",
       "765     5   121    72    23   112  26.2  0.245   30  tested_negative\n",
       "766     1   126    60     0     0  30.1  0.349   47  tested_positive\n",
       "767     1    93    70    31     0  30.4  0.315   23  tested_negative"
      ]
     },
     "execution_count": 19,
     "metadata": {},
     "output_type": "execute_result"
    }
   ],
   "source": [
    "#Leer el dataset\n",
    "dataset = pd.read_csv('notebook/datos/diabetes.csv', sep=',')\n",
    "\n",
    "#datset.head()\n",
    "dataset.tail()\n",
    "#dataset.shape\n",
    "#set(dataset['class'])"
   ]
  },
  {
   "cell_type": "code",
   "execution_count": 26,
   "metadata": {},
   "outputs": [
    {
     "data": {
      "text/html": [
       "<div>\n",
       "<style scoped>\n",
       "    .dataframe tbody tr th:only-of-type {\n",
       "        vertical-align: middle;\n",
       "    }\n",
       "\n",
       "    .dataframe tbody tr th {\n",
       "        vertical-align: top;\n",
       "    }\n",
       "\n",
       "    .dataframe thead th {\n",
       "        text-align: right;\n",
       "    }\n",
       "</style>\n",
       "<table border=\"1\" class=\"dataframe\">\n",
       "  <thead>\n",
       "    <tr style=\"text-align: right;\">\n",
       "      <th></th>\n",
       "      <th>preg</th>\n",
       "      <th>plas</th>\n",
       "      <th>pres</th>\n",
       "      <th>skin</th>\n",
       "      <th>insu</th>\n",
       "      <th>mass</th>\n",
       "      <th>pedi</th>\n",
       "      <th>age</th>\n",
       "    </tr>\n",
       "  </thead>\n",
       "  <tbody>\n",
       "    <tr>\n",
       "      <th>0</th>\n",
       "      <td>6</td>\n",
       "      <td>148</td>\n",
       "      <td>72</td>\n",
       "      <td>35</td>\n",
       "      <td>0</td>\n",
       "      <td>33.6</td>\n",
       "      <td>0.627</td>\n",
       "      <td>50</td>\n",
       "    </tr>\n",
       "    <tr>\n",
       "      <th>1</th>\n",
       "      <td>1</td>\n",
       "      <td>85</td>\n",
       "      <td>66</td>\n",
       "      <td>29</td>\n",
       "      <td>0</td>\n",
       "      <td>26.6</td>\n",
       "      <td>0.351</td>\n",
       "      <td>31</td>\n",
       "    </tr>\n",
       "    <tr>\n",
       "      <th>2</th>\n",
       "      <td>8</td>\n",
       "      <td>183</td>\n",
       "      <td>64</td>\n",
       "      <td>0</td>\n",
       "      <td>0</td>\n",
       "      <td>23.3</td>\n",
       "      <td>0.672</td>\n",
       "      <td>32</td>\n",
       "    </tr>\n",
       "    <tr>\n",
       "      <th>3</th>\n",
       "      <td>1</td>\n",
       "      <td>89</td>\n",
       "      <td>66</td>\n",
       "      <td>23</td>\n",
       "      <td>94</td>\n",
       "      <td>28.1</td>\n",
       "      <td>0.167</td>\n",
       "      <td>21</td>\n",
       "    </tr>\n",
       "    <tr>\n",
       "      <th>4</th>\n",
       "      <td>0</td>\n",
       "      <td>137</td>\n",
       "      <td>40</td>\n",
       "      <td>35</td>\n",
       "      <td>168</td>\n",
       "      <td>43.1</td>\n",
       "      <td>2.288</td>\n",
       "      <td>33</td>\n",
       "    </tr>\n",
       "  </tbody>\n",
       "</table>\n",
       "</div>"
      ],
      "text/plain": [
       "   preg  plas  pres  skin  insu  mass   pedi  age\n",
       "0     6   148    72    35     0  33.6  0.627   50\n",
       "1     1    85    66    29     0  26.6  0.351   31\n",
       "2     8   183    64     0     0  23.3  0.672   32\n",
       "3     1    89    66    23    94  28.1  0.167   21\n",
       "4     0   137    40    35   168  43.1  2.288   33"
      ]
     },
     "execution_count": 26,
     "metadata": {},
     "output_type": "execute_result"
    }
   ],
   "source": [
    "#escalar los datos\n",
    "scaler = MinMaxScaler()\n",
    "\n",
    "X_dataset = dataset.drop('class',axis=1)\n",
    "Y_dataset = dataset['class']\n",
    "\n",
    "X_dataset.head()\n",
    "#Y_dataset.head()"
   ]
  },
  {
   "cell_type": "code",
   "execution_count": 30,
   "metadata": {},
   "outputs": [
    {
     "data": {
      "text/html": [
       "<div>\n",
       "<style scoped>\n",
       "    .dataframe tbody tr th:only-of-type {\n",
       "        vertical-align: middle;\n",
       "    }\n",
       "\n",
       "    .dataframe tbody tr th {\n",
       "        vertical-align: top;\n",
       "    }\n",
       "\n",
       "    .dataframe thead th {\n",
       "        text-align: right;\n",
       "    }\n",
       "</style>\n",
       "<table border=\"1\" class=\"dataframe\">\n",
       "  <thead>\n",
       "    <tr style=\"text-align: right;\">\n",
       "      <th></th>\n",
       "      <th>preg</th>\n",
       "      <th>plas</th>\n",
       "      <th>pres</th>\n",
       "      <th>skin</th>\n",
       "      <th>insu</th>\n",
       "      <th>mass</th>\n",
       "      <th>pedi</th>\n",
       "      <th>age</th>\n",
       "    </tr>\n",
       "  </thead>\n",
       "  <tbody>\n",
       "    <tr>\n",
       "      <th>0</th>\n",
       "      <td>0.352941</td>\n",
       "      <td>0.743719</td>\n",
       "      <td>0.590164</td>\n",
       "      <td>0.353535</td>\n",
       "      <td>0.000000</td>\n",
       "      <td>0.500745</td>\n",
       "      <td>0.234415</td>\n",
       "      <td>0.483333</td>\n",
       "    </tr>\n",
       "    <tr>\n",
       "      <th>1</th>\n",
       "      <td>0.058824</td>\n",
       "      <td>0.427136</td>\n",
       "      <td>0.540984</td>\n",
       "      <td>0.292929</td>\n",
       "      <td>0.000000</td>\n",
       "      <td>0.396423</td>\n",
       "      <td>0.116567</td>\n",
       "      <td>0.166667</td>\n",
       "    </tr>\n",
       "    <tr>\n",
       "      <th>2</th>\n",
       "      <td>0.470588</td>\n",
       "      <td>0.919598</td>\n",
       "      <td>0.524590</td>\n",
       "      <td>0.000000</td>\n",
       "      <td>0.000000</td>\n",
       "      <td>0.347243</td>\n",
       "      <td>0.253629</td>\n",
       "      <td>0.183333</td>\n",
       "    </tr>\n",
       "    <tr>\n",
       "      <th>3</th>\n",
       "      <td>0.058824</td>\n",
       "      <td>0.447236</td>\n",
       "      <td>0.540984</td>\n",
       "      <td>0.232323</td>\n",
       "      <td>0.111111</td>\n",
       "      <td>0.418778</td>\n",
       "      <td>0.038002</td>\n",
       "      <td>0.000000</td>\n",
       "    </tr>\n",
       "    <tr>\n",
       "      <th>4</th>\n",
       "      <td>0.000000</td>\n",
       "      <td>0.688442</td>\n",
       "      <td>0.327869</td>\n",
       "      <td>0.353535</td>\n",
       "      <td>0.198582</td>\n",
       "      <td>0.642325</td>\n",
       "      <td>0.943638</td>\n",
       "      <td>0.200000</td>\n",
       "    </tr>\n",
       "  </tbody>\n",
       "</table>\n",
       "</div>"
      ],
      "text/plain": [
       "       preg      plas      pres      skin      insu      mass      pedi  \\\n",
       "0  0.352941  0.743719  0.590164  0.353535  0.000000  0.500745  0.234415   \n",
       "1  0.058824  0.427136  0.540984  0.292929  0.000000  0.396423  0.116567   \n",
       "2  0.470588  0.919598  0.524590  0.000000  0.000000  0.347243  0.253629   \n",
       "3  0.058824  0.447236  0.540984  0.232323  0.111111  0.418778  0.038002   \n",
       "4  0.000000  0.688442  0.327869  0.353535  0.198582  0.642325  0.943638   \n",
       "\n",
       "        age  \n",
       "0  0.483333  \n",
       "1  0.166667  \n",
       "2  0.183333  \n",
       "3  0.000000  \n",
       "4  0.200000  "
      ]
     },
     "execution_count": 30,
     "metadata": {},
     "output_type": "execute_result"
    }
   ],
   "source": [
    "XdatasetScaled = pd.DataFrame(scaler.fit_transform(X_dataset), columns = X_dataset.columns)\n",
    "\n",
    "XdatasetScaled.head()"
   ]
  },
  {
   "cell_type": "code",
   "execution_count": 34,
   "metadata": {},
   "outputs": [
    {
     "name": "stdout",
     "output_type": "stream",
     "text": [
      "True\n"
     ]
    }
   ],
   "source": [
    "#separar la clase\n",
    "Xset = XdatasetScaled\n",
    "Yset = dataset['class']\n",
    "print(Xset.shape[0]==Yset.shape[0])"
   ]
  },
  {
   "cell_type": "code",
   "execution_count": 36,
   "metadata": {},
   "outputs": [],
   "source": [
    "Xtrainset, Xtestset, Ytrainset, Ytestset = train_test_split(Xset,Yset,test_size=0.2)"
   ]
  },
  {
   "cell_type": "code",
   "execution_count": 39,
   "metadata": {},
   "outputs": [
    {
     "data": {
      "text/plain": [
       "LogisticRegression(C=1.0, class_weight=None, dual=False, fit_intercept=True,\n",
       "          intercept_scaling=1, max_iter=100, multi_class='warn',\n",
       "          n_jobs=None, penalty='l2', random_state=None, solver='warn',\n",
       "          tol=0.0001, verbose=0, warm_start=False)"
      ]
     },
     "execution_count": 39,
     "metadata": {},
     "output_type": "execute_result"
    }
   ],
   "source": [
    "#primero realizamos la regresion logistica\n",
    "logreg = linear_model.LogisticRegression()\n",
    "\n",
    "logreg.fit(Xtrainset,Ytrainset)"
   ]
  },
  {
   "cell_type": "code",
   "execution_count": 77,
   "metadata": {},
   "outputs": [
    {
     "name": "stdout",
     "output_type": "stream",
     "text": [
      "Precision de entrenamiento: 0.7785016286644951\n",
      "Precision de pruebas 0.7402597402597403\n",
      "\n",
      "//////////////////////\n",
      "Confusion Matrix\n",
      "/////////////////////\n",
      "\n",
      "                 tested_negative  tested_positive\n",
      "tested_negative               82                8\n",
      "tested_positive               32               32\n",
      "\n",
      "//////////////////////\n",
      "Metrics\n",
      "/////////////////////\n",
      "\n",
      "                 precision    recall  f1-score   support\n",
      "\n",
      "tested_negative       0.72      0.91      0.80        90\n",
      "tested_positive       0.80      0.50      0.62        64\n",
      "\n",
      "      micro avg       0.74      0.74      0.74       154\n",
      "      macro avg       0.76      0.71      0.71       154\n",
      "   weighted avg       0.75      0.74      0.73       154\n",
      "\n"
     ]
    }
   ],
   "source": [
    "#reporte de resultados\n",
    "\n",
    "ytrainingPred = logreg.predict(Xtrainset)\n",
    "trainprecision = accuracy_score(Ytrainset, ytrainingPred)\n",
    "print('Precision de entrenamiento:',str(trainprecision))\n",
    "ytestPred = logreg.predict(Xtestset)\n",
    "testprecision = accuracy_score(Ytestset,ytestPred)\n",
    "print('Precision de pruebas', str(testprecision))\n",
    "\n",
    "confmatrix = confusion_matrix(Ytestset,ytestPred, \n",
    "                              labels=['tested_negative','tested_positive'])\n",
    "\n",
    "table = pd.DataFrame(confmatrix)\n",
    "table.columns = ['tested_negative', 'tested_positive']\n",
    "table.index = ['tested_negative', 'tested_positive']\n",
    "print('\\n//////////////////////\\nConfusion Matrix\\n/////////////////////\\n')\n",
    "print(table)\n",
    "\n",
    "print('\\n//////////////////////\\nMetrics\\n/////////////////////\\n')\n",
    "\n",
    "print(classification_report(Ytestset,ytestPred))"
   ]
  },
  {
   "cell_type": "code",
   "execution_count": 71,
   "metadata": {},
   "outputs": [
    {
     "name": "stdout",
     "output_type": "stream",
     "text": [
      "AUC: 0.8182291666666667\n"
     ]
    },
    {
     "data": {
      "image/png": "[encoded data removed]",
      "text/plain": [
       "<Figure size 432x288 with 1 Axes>"
      ]
     },
     "metadata": {
      "needs_background": "light"
     },
     "output_type": "display_data"
    }
   ],
   "source": [
    "#area bajo la curva\n",
    "yScore = logreg.decision_function(Xtestset)\n",
    "\n",
    "frp, tpr, thresholds = roc_curve(Ytestset,yScore,\n",
    "                                pos_label = 'tested_positive')\n",
    "\n",
    "plt.plot(frp,tpr)\n",
    "plt.plot([0,1],[0,1],'k--')\n",
    "plt.xlim([0.0,1.0])\n",
    "plt.ylim([0.0,1.05])\n",
    "plt.xlabel('1 - Especificidad')\n",
    "plt.ylabel('Sensibilidad')\n",
    "plt.title('AUC');\n",
    "\n",
    "print('AUC:',auc(frp,tpr))"
   ]
  },
  {
   "cell_type": "code",
   "execution_count": 73,
   "metadata": {},
   "outputs": [
    {
     "data": {
      "text/plain": [
       "SVC(C=1.0, cache_size=200, class_weight=None, coef0=0.0,\n",
       "  decision_function_shape='ovr', degree=3, gamma='auto_deprecated',\n",
       "  kernel='linear', max_iter=-1, probability=False, random_state=None,\n",
       "  shrinking=True, tol=0.001, verbose=False)"
      ]
     },
     "execution_count": 73,
     "metadata": {},
     "output_type": "execute_result"
    }
   ],
   "source": [
    "#SVC\n",
    "from sklearn.svm import SVC\n",
    "classifier = SVC(kernel='linear')\n",
    "classifier.fit(Xtrainset,Ytrainset)"
   ]
  },
  {
   "cell_type": "code",
   "execution_count": 78,
   "metadata": {},
   "outputs": [
    {
     "name": "stdout",
     "output_type": "stream",
     "text": [
      "\n",
      "//////////////////////\n",
      "Confusion Matrix\n",
      "/////////////////////\n",
      "\n",
      "                 tested_negative  tested_positive\n",
      "tested_negative               82                8\n",
      "tested_positive               32               32\n",
      "\n",
      "//////////////////////\n",
      "Metrics\n",
      "/////////////////////\n",
      "\n",
      "                 precision    recall  f1-score   support\n",
      "\n",
      "tested_negative       0.72      0.88      0.79        90\n",
      "tested_positive       0.76      0.53      0.62        64\n",
      "\n",
      "      micro avg       0.73      0.73      0.73       154\n",
      "      macro avg       0.74      0.70      0.71       154\n",
      "   weighted avg       0.74      0.73      0.72       154\n",
      "\n"
     ]
    }
   ],
   "source": [
    "#reporte de resultados\n",
    "YsvcPrediction = classifier.predict(Xtestset)\n",
    "\n",
    "\n",
    "confmatrixsvc = confusion_matrix(Ytestset,YsvcPrediction, \n",
    "                              labels=['tested_negative','tested_positive'])\n",
    "\n",
    "tablesvc = pd.DataFrame(confmatrixsvc)\n",
    "tablesvc.columns = ['tested_negative', 'tested_positive']\n",
    "tablesvc.index = ['tested_negative', 'tested_positive']\n",
    "print('\\n//////////////////////\\nConfusion Matrix\\n/////////////////////\\n')\n",
    "print(table)\n",
    "\n",
    "print('\\n//////////////////////\\nMetrics\\n/////////////////////\\n')\n",
    "\n",
    "print(classification_report(Ytestset,YsvcPrediction))"
   ]
  },
  {
   "cell_type": "code",
   "execution_count": 90,
   "metadata": {},
   "outputs": [
    {
     "name": "stdout",
     "output_type": "stream",
     "text": [
      "\n",
      "//////////////////////\n",
      "Metrics LogReg\n",
      "/////////////////////\n",
      "\n",
      "                 precision    recall  f1-score   support\n",
      "\n",
      "tested_negative       0.72      0.91      0.80        90\n",
      "tested_positive       0.80      0.50      0.62        64\n",
      "\n",
      "      micro avg       0.74      0.74      0.74       154\n",
      "      macro avg       0.76      0.71      0.71       154\n",
      "   weighted avg       0.75      0.74      0.73       154\n",
      "\n",
      "\n",
      "//////////////////////\n",
      "Metrics SVC\n",
      "/////////////////////\n",
      "\n",
      "                 precision    recall  f1-score   support\n",
      "\n",
      "tested_negative       0.72      0.88      0.79        90\n",
      "tested_positive       0.76      0.53      0.62        64\n",
      "\n",
      "      micro avg       0.73      0.73      0.73       154\n",
      "      macro avg       0.74      0.70      0.71       154\n",
      "   weighted avg       0.74      0.73      0.72       154\n",
      "\n",
      "AUC Regresion Logistica 0.8182291666666667\n",
      "AUC SVC: 0.8286458333333334\n"
     ]
    },
    {
     "data": {
      "image/png": "[encoded data removed]",
      "text/plain": [
       "<Figure size 432x288 with 1 Axes>"
      ]
     },
     "metadata": {
      "needs_background": "light"
     },
     "output_type": "display_data"
    }
   ],
   "source": [
    "#comparar regresion logistica y SVC\n",
    "\n",
    "YsvcScore = classifier.decision_function(Xtestset)\n",
    "\n",
    "svcfrp, svctpr, svcthresholds = roc_curve(Ytestset,YsvcScore,\n",
    "                                pos_label = 'tested_positive')\n",
    "\n",
    "redpatch = patches.Patch(color='red',label = 'SVC')\n",
    "greenpatch = patches.Patch(color='green', label = 'Regresion Logistica')\n",
    "\n",
    "plt.plot(svcfrp,svctpr,'r-')\n",
    "plt.plot(frp,tpr,'g-')\n",
    "plt.plot([0,1],[0,1],'k--')\n",
    "plt.xlim([0.0,1.0])\n",
    "plt.ylim([0.0,1.05])\n",
    "plt.xlabel('1 - Especificidad')\n",
    "plt.ylabel('Sensibilidad')\n",
    "plt.legend(handles=[redpatch,greenpatch])\n",
    "plt.title('AUC');\n",
    "\n",
    "print('\\n//////////////////////\\nMetrics LogReg\\n/////////////////////\\n')\n",
    "print(classification_report(Ytestset,ytestPred))\n",
    "print('\\n//////////////////////\\nMetrics SVC\\n/////////////////////\\n')\n",
    "print(classification_report(Ytestset,YsvcPrediction))\n",
    "\n",
    "print('AUC Regresion Logistica', auc(frp,tpr))\n",
    "print('AUC SVC:',auc(svcfrp,svctpr))"
   ]
  }
 ],
 "metadata": {
  "kernelspec": {
   "display_name": "Python 3",
   "language": "python",
   "name": "python3"
  },
  "language_info": {
   "codemirror_mode": {
    "name": "ipython",
    "version": 3
   },
   "file_extension": ".py",
   "mimetype": "text/x-python",
   "name": "python",
   "nbconvert_exporter": "python",
   "pygments_lexer": "ipython3",
   "version": "3.7.1"
  }
 },
 "nbformat": 4,
 "nbformat_minor": 2
}
